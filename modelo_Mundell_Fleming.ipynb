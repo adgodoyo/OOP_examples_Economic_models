{
  "cells": [
    {
      "cell_type": "markdown",
      "metadata": {
        "id": "v-rFV04ZqiPS"
      },
      "source": [
        "Modelo Mundell-Fleming\n",
        "-\n",
        "Es una extensión del modelo IS-LM que se utiliza para analizar economías que interactúan con el resto del mundo a través del comercio y las finanzas, por lo tanto el modelo ayuda a entender cómo las políticas fiscales y monetarias afectan una economía abierta, considerando los efectos de los tipos de cambio y los flujos de capital. Fue desarrollado por Robert Mundell y Marcus Fleming en los años 60."
      ]
    },
    {
      "cell_type": "markdown",
      "metadata": {
        "id": "P6O_IQGKqeKC"
      },
      "source": [
        "Curva IS\n",
        "--\n",
        "\n",
        "Parametros:\n",
        "--- \n",
        "* pendiente: Relación entre cambios en la tasa de interes y en el producto\n",
        "* intercepto: Cuando la tasa de interes es 0\n",
        "* multiplicador: Cambios en la demanda agregada\n",
        "* tasa_interes: Tasa de interes actual\n",
        "* producto: Nivel de producto actual\n",
        "\n",
        "---\n",
        "\n",
        "Metodos\n",
        "---\n",
        "\n",
        "* calcular_tasa_interes_equilibrio:\n",
        "  * objetivo: Encontrar la nueva tasa de interes dada una nueva cantidad de producto.\n",
        "* desplazar_curva:\n",
        "  * objetivo: Sumar un valor al atributo ***intercepto***, que permita generar el desplazamiento de la curva"
      ]
    },
    {
      "cell_type": "code",
      "execution_count": null,
      "metadata": {
        "id": "bc9LkyjI5wjj"
      },
      "outputs": [],
      "source": [
        "class CurvaIS:\n",
        "    def __init__(self, pendiente, intercepto, multiplicador, tasa_interes, producto):\n",
        "        self.pendiente = pendiente\n",
        "        self.intercepto = intercepto\n",
        "        self.multiplicador = multiplicador\n",
        "        self.tasa_interes = tasa_interes\n",
        "        self.producto = producto\n",
        "\n",
        "    def calcular_tasa_interes_equilibrio(self, producto_nuevo):\n",
        "        tasa_interes_nueva = (self.intercepto - producto_nuevo / self.multiplicador) / self.pendiente\n",
        "        return tasa_interes_nueva\n",
        "\n",
        "    def desplazar_curva(self, cambio_intercepto):\n",
        "        self.intercepto += cambio_intercepto"
      ]
    },
    {
      "cell_type": "markdown",
      "metadata": {
        "id": "u_FMn2l0wBs8"
      },
      "source": [
        "Curva LM\n",
        "--\n",
        "\n",
        "Parametros:\n",
        "---\n",
        "* pendiente: Relación entre cambios en la tasa de interes y en el producto\n",
        "* intercepto: Cuando la tasa de interes es 0\n",
        "* oferta_monetaria:La cantidad total de dinero en la economía\n",
        "* tasa_interes: Tasa de interés actual\n",
        "* producto: Nivel actual de producto\n",
        "\n",
        "---\n",
        "\n",
        "Metodos\n",
        "---\n",
        "* calcular_producto_equilibrio:\n",
        "  * objetivo: Encontrar el nuevo nivel de producto en quilibrio dada una nueva tasa de interés.\n",
        "* desplazar_curva:\n",
        "  * objetivo: Sumar un valor al atributo ***oferta_monetaria***, que permita generar el desplazamiento de la curva"
      ]
    },
    {
      "cell_type": "code",
      "execution_count": null,
      "metadata": {
        "id": "28rU0e2D6wvr"
      },
      "outputs": [],
      "source": [
        "class CurvaLM:\n",
        "    def __init__(self, pendiente, intercepto, oferta_monetaria, tasa_interes, producto):\n",
        "        self.pendiente = pendiente\n",
        "        self.intercepto = intercepto\n",
        "        self.oferta_monetaria = oferta_monetaria\n",
        "        self.tasa_interes = tasa_interes\n",
        "        self.producto = producto\n",
        "\n",
        "    def calcular_producto_equilibrio(self, tasa_interes_nueva):\n",
        "        producto_nuevo = (self.oferta_monetaria - self.intercepto - self.pendiente * tasa_interes_nueva) / self.pendiente\n",
        "        return producto_nuevo\n",
        "\n",
        "    def desplazar_curva(self, cambio_oferta_monetaria):\n",
        "        self.oferta_monetaria += cambio_oferta_monetaria"
      ]
    },
    {
      "cell_type": "markdown",
      "metadata": {
        "id": "k5dDfoei0GGd"
      },
      "source": [
        "Curva BP\n",
        "--\n",
        "\n",
        "Parametros:\n",
        "---\n",
        "* tasa_interes_mundial: Tasa de interés en los mercados internacionales.\n",
        "* tipo_cambio: La relación entre la moneda local y la moneda extranjera.\n",
        "* balanza_comercial:Exportaciones netas.\n",
        "* flujo_capital: El flujo neto de capital hacia o desde el país\n",
        "\n",
        "---\n",
        "\n",
        "Metodos\n",
        "---\n",
        "* calcular_tasa_interes_equilibrio:\n",
        "  * objetivo: Dado el supuesto de perfecta movilidad de capitales, la tasa de interés local debe igualarse a la tasa de interés mundial para mantener el equilibrio en la balanza de pagos.\n",
        "* desplazar_curva:\n",
        "  * objetivo: Modifica el tipo de cambio.\n",
        "\n",
        "* actualizar_tipo_cambio:\n",
        "  * objetivo: Utiliza una fórmula simplificada para calcular un nuevo tipo de cambio en función de la tasa de interés de equilibrio en el mercado de bienes IS y el producto de equilibrio en el mercado monetario LM.  "
      ]
    },
    {
      "cell_type": "code",
      "execution_count": null,
      "metadata": {
        "id": "JC5hnG7eBAIE"
      },
      "outputs": [],
      "source": [
        "class CurvaBP:\n",
        "    def __init__(self, tasa_interes_mundial, tipo_cambio, balanza_comercial, flujo_capital):\n",
        "        self.tasa_interes_mundial = tasa_interes_mundial\n",
        "        self.tipo_cambio = tipo_cambio\n",
        "        self.balanza_comercial = balanza_comercial\n",
        "        self.flujo_capital = flujo_capital\n",
        "\n",
        "    def calcular_tasa_interes_equilibrio(self):\n",
        "        # En el modelo Mundell-Fleming con perfecta movilidad de capitales, la tasa de interés doméstica\n",
        "        # debe igualarse a la tasa de interés mundial para que haya equilibrio en la balanza de pagos.\n",
        "        tasa_interes_equilibrio = self.tasa_interes_mundial\n",
        "        return tasa_interes_equilibrio\n",
        "\n",
        "    def desplazar_curva(self, tipo_cambio_nuevo):\n",
        "        # Un cambio en el tipo de cambio afecta la balanza comercial, desplazando la curva BP.\n",
        "        self.tipo_cambio += tipo_cambio_nuevo\n",
        "\n",
        "    def actualizar_tipo_cambio(self, tasa_interes_is, producto_lm, tipo_cambio_actual):\n",
        "        # Implementación simplificada para actualizar el tipo de cambio basado en el producto y la tasa de interés.\n",
        "        tipo_cambio_nuevo = (tasa_interes_is - producto_lm / 1000) * 0.01\n",
        "        return tipo_cambio_actual + tipo_cambio_nuevo\n"
      ]
    },
    {
      "cell_type": "markdown",
      "metadata": {
        "id": "bp3ZxM-PCDbS"
      },
      "source": [
        "Función de equilibrio\n",
        "--\n",
        "\n",
        "1. Parametros:\n",
        "* Se asignan valores iniciales para el producto, la tasa de interés y el tipo de cambio, tomando los valores de los objetos CurvaIS, CurvaLM y CurvaBP, respectivamente.\n",
        "---\n",
        "2. Iteraciones:\n",
        "* Se inicia un bucle que se ejecuta hasta un máximo de max_iteraciones veces o hasta que se encuentre una solución suficientemente precisa.\n",
        "\n",
        "* Se actualiza el tipo de cambio utilizando la función actualizar_tipo_cambio, que depende de la tasa de interés y la producción calculadas.\n",
        "\n",
        "* Se actualizan los valores iniciales del producto y la tasa de interés para la siguiente iteración.\n",
        "---\n",
        "3. Retorno:\n",
        "* Una vez encontrado el equilibrio o alcanzado el máximo número de iteraciones, se devuelven los valores finales del producto, tasa de interés y tipo de cambio."
      ]
    },
    {
      "cell_type": "code",
      "execution_count": null,
      "metadata": {
        "id": "hFEHhKo98YXC"
      },
      "outputs": [],
      "source": [
        "def encontrar_equilibrio(CurvaIS, CurvaLM, CurvaBP, max_iteraciones=100):\n",
        "    producto_inicial = CurvaIS.producto\n",
        "    tasa_interes_inicial = CurvaLM.tasa_interes\n",
        "    tipo_cambio_inicial = CurvaBP.tipo_cambio\n",
        "\n",
        "    for _ in range(max_iteraciones):\n",
        "        tasa_interes_is = CurvaIS.calcular_tasa_interes_equilibrio(producto_inicial)\n",
        "        producto_lm = CurvaLM.calcular_producto_equilibrio(tasa_interes_inicial)\n",
        "        tasa_interes_bp = CurvaBP.calcular_tasa_interes_equilibrio()\n",
        "\n",
        "        # Verificamos si las diferencias son muy pequeñas\n",
        "        if abs(tasa_interes_is - tasa_interes_inicial) < 1e-10 and \\\n",
        "           abs(producto_lm - producto_inicial) < 1e-10 and \\\n",
        "           abs(tasa_interes_is - tasa_interes_bp) < 1e-10:\n",
        "            break\n",
        "\n",
        "        tipo_cambio_inicial = CurvaBP.actualizar_tipo_cambio(tasa_interes_is, producto_lm, tipo_cambio_inicial)\n",
        "\n",
        "        producto_inicial = producto_lm\n",
        "        tasa_interes_inicial = tasa_interes_is\n",
        "\n",
        "    return producto_inicial, tasa_interes_inicial, tipo_cambio_inicial"
      ]
    },
    {
      "cell_type": "code",
      "execution_count": null,
      "metadata": {
        "colab": {
          "base_uri": "https://localhost:8080/"
        },
        "id": "DcSqIAFOMhiz",
        "outputId": "b91d13c5-0c4c-484d-a595-122fb69a8754"
      },
      "outputs": [
        {
          "name": "stdout",
          "output_type": "stream",
          "text": [
            "Producto de equilibrio: 10.0\n",
            "Tasa de interés de equilibrio: 0.05\n",
            "Tipo de cambio de equilibrio: 999.9749750000007\n"
          ]
        }
      ],
      "source": [
        "curva_is = CurvaIS(-1, 0.05, 1, 0.05, 10)\n",
        "curva_lm = CurvaLM(1, 1, 1, 0.05, 10)\n",
        "curva_bp = CurvaBP(0.05, 1000, 100,1100)\n",
        "\n",
        "producto_eq, tasa_interes_eq, tipo_cambio_eq = encontrar_equilibrio(curva_is, curva_lm, curva_bp)\n",
        "\n",
        "print(\"Producto de equilibrio:\", producto_eq)\n",
        "print(\"Tasa de interés de equilibrio:\", tasa_interes_eq)\n",
        "print(\"Tipo de cambio de equilibrio:\", tipo_cambio_eq)"
      ]
    },
    {
      "cell_type": "markdown",
      "metadata": {
        "id": "Hnj7oFi2Ah5o"
      },
      "source": [
        "#Simulaciones"
      ]
    },
    {
      "cell_type": "markdown",
      "metadata": {
        "id": "Vc5ZVo6wWB1_"
      },
      "source": [
        "\n",
        "\n",
        "*   La inteligencia: es la capacidad de ***aprender***\n",
        "*   aprender: capacidad de reconocer patrones de la realidad\n",
        "*   dato: es una pieza de información que describe algun aspecto del mundo\n",
        "* modelo: es una representación simplificada de la realidad (función)\n",
        "* En esta clase se va a buscar encontrar las funciones\n",
        "\n",
        "\n",
        "---\n",
        "\n",
        "\n",
        "\n",
        "\n",
        "\n",
        "\n",
        "\n",
        "\n",
        "\n",
        "\n"
      ]
    },
    {
      "cell_type": "code",
      "execution_count": null,
      "metadata": {
        "colab": {
          "base_uri": "https://localhost:8080/"
        },
        "id": "V8rkgk8zLZ6Q",
        "outputId": "917c697e-095c-4ad6-9cd7-9a2a7887f6fa"
      },
      "outputs": [
        {
          "name": "stdout",
          "output_type": "stream",
          "text": [
            "Producto de equilibrio: 10.0\n",
            "Tasa de interés de equilibrio: 0.05\n",
            "Tipo de cambio de equilibrio: 999.9749750000007\n"
          ]
        }
      ],
      "source": [
        "class CurvaIS:\n",
        "    def __init__(self, pendiente, intercepto, multiplicador, tasa_interes, producto):\n",
        "        self.pendiente = pendiente\n",
        "        self.intercepto = intercepto\n",
        "        self.multiplicador = multiplicador\n",
        "        self.tasa_interes = tasa_interes\n",
        "        self.producto = producto\n",
        "\n",
        "    def calcular_tasa_interes_equilibrio(self, producto_nuevo):\n",
        "        tasa_interes_nueva = (self.intercepto - producto_nuevo / self.multiplicador) / self.pendiente\n",
        "        return tasa_interes_nueva\n",
        "\n",
        "    def desplazar_curva(self, cambio_intercepto):\n",
        "        self.intercepto += cambio_intercepto\n",
        "\n",
        "class CurvaLM:\n",
        "    def __init__(self, pendiente, intercepto, oferta_monetaria, tasa_interes, producto):\n",
        "        self.pendiente = pendiente\n",
        "        self.intercepto = intercepto\n",
        "        self.oferta_monetaria = oferta_monetaria\n",
        "        self.tasa_interes = tasa_interes\n",
        "        self.producto = producto\n",
        "\n",
        "    def calcular_producto_equilibrio(self, tasa_interes_nueva):\n",
        "        producto_nuevo = (self.oferta_monetaria - self.intercepto - self.pendiente * tasa_interes_nueva) / self.pendiente\n",
        "        return producto_nuevo\n",
        "\n",
        "    def desplazar_curva(self, cambio_oferta_monetaria):\n",
        "        self.oferta_monetaria += cambio_oferta_monetaria\n",
        "\n",
        "\n",
        "class CurvaBP:\n",
        "    def __init__(self, tasa_interes_mundial, tipo_cambio, balanza_comercial, flujo_capital):\n",
        "        self.tasa_interes_mundial = tasa_interes_mundial\n",
        "        self.tipo_cambio = tipo_cambio\n",
        "        self.balanza_comercial = balanza_comercial\n",
        "        self.flujo_capital = flujo_capital\n",
        "\n",
        "    def calcular_tasa_interes_equilibrio(self):\n",
        "        # En el modelo Mundell-Fleming con perfecta movilidad de capitales, la tasa de interés doméstica\n",
        "        # debe igualarse a la tasa de interés mundial para que haya equilibrio en la balanza de pagos.\n",
        "        tasa_interes_equilibrio = self.tasa_interes_mundial\n",
        "        return tasa_interes_equilibrio\n",
        "\n",
        "    def desplazar_curva(self, tipo_cambio_nuevo):\n",
        "        # Un cambio en el tipo de cambio afecta la balanza comercial, desplazando la curva BP.\n",
        "        self.tipo_cambio += tipo_cambio_nuevo\n",
        "\n",
        "    def actualizar_tipo_cambio(self, tasa_interes_is, producto_lm, tipo_cambio_actual):\n",
        "        # Implementación simplificada para actualizar el tipo de cambio basado en el producto y la tasa de interés.\n",
        "        tipo_cambio_nuevo = (tasa_interes_is - producto_lm / 1000) * 0.01\n",
        "        return tipo_cambio_actual + tipo_cambio_nuevo\n",
        "\n",
        "\n",
        "\n",
        "\n",
        "def encontrar_equilibrio(CurvaIS, CurvaLM, CurvaBP, max_iteraciones=100):\n",
        "    producto_inicial = CurvaIS.producto\n",
        "    tasa_interes_inicial = CurvaLM.tasa_interes\n",
        "    tipo_cambio_inicial = CurvaBP.tipo_cambio\n",
        "\n",
        "    for _ in range(max_iteraciones):\n",
        "        tasa_interes_is = CurvaIS.calcular_tasa_interes_equilibrio(producto_inicial)\n",
        "        producto_lm = CurvaLM.calcular_producto_equilibrio(tasa_interes_inicial)\n",
        "        tasa_interes_bp = CurvaBP.calcular_tasa_interes_equilibrio()\n",
        "\n",
        "        # Verificamos si las diferencias son muy pequeñas\n",
        "        if abs(tasa_interes_is - tasa_interes_inicial) < 1e-10 and \\\n",
        "           abs(producto_lm - producto_inicial) < 1e-10 and \\\n",
        "           abs(tasa_interes_is - tasa_interes_bp) < 1e-10:\n",
        "            break\n",
        "\n",
        "        tipo_cambio_inicial = CurvaBP.actualizar_tipo_cambio(tasa_interes_is, producto_lm, tipo_cambio_inicial)\n",
        "\n",
        "        producto_inicial = producto_lm\n",
        "        tasa_interes_inicial = tasa_interes_is\n",
        "\n",
        "    return producto_inicial, tasa_interes_inicial, tipo_cambio_inicial\n",
        "\n",
        "\n",
        "\n",
        "\n",
        "curva_is = CurvaIS(-1, 0.05, 1, 0.05, 10)\n",
        "curva_lm = CurvaLM(1, 1, 1, 0.05, 10)\n",
        "curva_bp = CurvaBP(0.05, 1000, 100,1100)\n",
        "\n",
        "producto_eq, tasa_interes_eq, tipo_cambio_eq = encontrar_equilibrio(curva_is, curva_lm, curva_bp)\n",
        "\n",
        "print(\"Producto de equilibrio:\", producto_eq)\n",
        "print(\"Tasa de interés de equilibrio:\", tasa_interes_eq)\n",
        "print(\"Tipo de cambio de equilibrio:\", tipo_cambio_eq)"
      ]
    },
    {
      "cell_type": "markdown",
      "metadata": {
        "id": "k-_BdnzxOlx5"
      },
      "source": [
        "class CurvaIS:\n",
        "    def __init__(self, pendiente, intercepto, multiplicador, tasa_interes, producto):\n",
        "\n",
        " class CurvaLM:\n",
        "    def __init__(self, pendiente, intercepto, oferta_monetaria, tasa_interes, producto):\n",
        "\n",
        "class CurvaBP:\n",
        "    def __init__(self, tasa_interes_mundial, tipo_cambio, balanza_comercial, flujo_capital):       "
      ]
    }
  ],
  "metadata": {
    "colab": {
      "provenance": []
    },
    "kernelspec": {
      "display_name": "Python 3",
      "name": "python3"
    },
    "language_info": {
      "name": "python"
    }
  },
  "nbformat": 4,
  "nbformat_minor": 0
}
