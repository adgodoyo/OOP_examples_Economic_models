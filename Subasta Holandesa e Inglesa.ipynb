{
 "cells": [
  {
   "cell_type": "markdown",
   "metadata": {},
   "source": [
    "# Taller 1 (Subasta Holandesa e Inglesa)\n",
    "## Santiago Andrés Rodríguez Estrada y Laura Sofía Romero Suárez\n",
    "\n",
    "Para este taller escogimos Subasta Holandesa e Inglesa, las cuales fueron programadas en el siguiente código.\n",
    "\n",
    "La mesa de dinero del Banco de la Republica diariamente realiza subastas de expansión y/o contracción para satisfacer las necesidades de liquidez del sistema   y lo hace por medio de la subasta holandesa en la que participan los bancos que cumplen con la metodología CAMEL. El Banco de la Republica lleva a cabo dos tipos de subastas, expansiva y contractiva. La subasta expansiva resuelve problemas transitorios de liquidez en el mercado, por otro lado la subasta contractiva retira liquidez del mercado. Para llevar estas operaciones a cabo los bancos presentan sus puntas al Banco de la Republica y dependiendo del cupo disponible se benefician los bancos que hicieron las mejores propuestas.\n",
    "\n",
    "En la subasta inglesa es mecanismo similar respecto a la operación de inyectar o retirar liquidez la diferencia es que en esta subasta se le da la totalidad del cupo a un solo banco.\n"
   ]
  },
  {
   "cell_type": "code",
   "execution_count": 32,
   "metadata": {},
   "outputs": [],
   "source": [
    "class Subasta:\n",
    "    def __init__(self, operacion, monto_cupo_disponible, tasa_de_intervencion):\n",
    "        self.operacion = operacion              # Se refiere a que tipo de operación (contractiva o expansiva) llevará a cabo el Banco de la República\n",
    "        self.monto_cupo = monto_cupo_disponible # Se refiere a que tanto dinero inyectará o retirará el BANREP de la economía.\n",
    "        self.tasa = tasa_de_intervencion        # La tasa de intervención, en este caso, es la línea de referencia con la que se fija un rango de puntas dentro del cual los bancos comerciales pueden proponer. Funciona similar con el margen de descuento\n",
    "        self.bancos = []                        # Se crea una lista vacía la cual se va a ir llenando con el método .agregar_propuesta_banco()\n",
    "    \n",
    "    def info(self): # El métodod .info() permite visualizar al usuario el correcto uso de la clase, tanto al ingresar parametros como en el uso de sus métodos\n",
    "        print('Este objeto busca calcular una subasta holandesa al igual que lo hace el Banco de la República de Colombia.')\n",
    "        print('Los parametros que debe ingresar son:')\n",
    "        print('operación: determina que tipo de operación llevará a cabo el BANREP. Debe ser <<contractiva>> o <<expansiva>>')\n",
    "        print('monto_cupo_disponible: determina el valor del monto o cupo de depósito disponible que dispondrá el BANREP dependiendo de la operación. Debe ser un número entero.')\n",
    "        print('tasa_de_intervención: determina la tasa de intervención vigente establecida por el BANREP, la cual es fundamental para el correcto cálculo del tipo de operación. Puede ser un décimal, no se debe agregar el signo <<%>>')\n",
    "        print('La función <<.agregar_propuesta_banco()>> agrega un total de 5 bancos comerciales con sus respectivas solicitudes para el cálculo de la operación')\n",
    "        print('La función <<.holandesa()>> realiza el cálculo de una subasta holandesa de tipo expansiva o contractiva (según se haya designado previamente) con los bancos agregados')\n",
    "        print('La función <<.inglesa()>> realiza la organización de las propuestas y, dependiendo de cual sea la mayor punta o el mayor margen de descuento, se le concede la solictud al banco correspondiente.')\n",
    "    \n",
    "    def agregar_propuesta_banco(self):       # Por medio de este métdodo se llenará la lista vacía self.bancos vista previamente en los atributos de la clase Subasta\n",
    "        \n",
    "        continuar = 'si'\n",
    "        while len(self.bancos) <= 10 and continuar == 'si': # Genera un bucle en el cual el usuario puede agregar un máximo de 10 bancos o hasta que decida no agregar más mediante una pregunta\n",
    "\n",
    "            \n",
    "            if self.operacion == 'expansiva':               # Dependiendo si la operación es expansiva, envía un mensaje distinto\n",
    "                banco = input('Ingrese el nombre del banco que desea participar en la subasta') # Pide el nombre del banco, el cual se guardará en la variable 'banco' como cadena de texto o 'string'\n",
    "                solicitud = int(input('El Banco de la República de Colombia llevará a cabo operaciones expansivas de dinero, ¿qué monto desea solicitar?')) # Pide ingresar la cantidad de dinero que el banco comercial solicitará al BANREP, lo cual se guarda en la variable 'solicitud' como un número entero o 'int'\n",
    "                punta = float(input(f'¿Cuál es la tasa que propone para acceder a ese monto solicitado? Recuerde que dicha tasa no debe ser menor a {self.tasa}% ni mayor a {self.tasa+1}% (Escriba el valor sin el signo de porcentaje)')) # Pide ingresar la punta con la que el banco va a competir en la subasta y la guarda en la variable 'punta' como un número con decimales o 'float'\n",
    "\n",
    "                while punta > self.tasa+1 or punta < self.tasa:\n",
    "                    punta = float(input(f'La tasa propuesta no debe superar {self.tasa+1}% ni ser inferior a {self.tasa}%, ingrese su tasa propuesta nuevamente.')) # Genera un bucle en el cual el usuario entra y no puede salir si digita una punta la cual sea mayor a la tasa de intervención + 100 pb o, como es conocido, tasa lombarda, o menor a la tasa de intervención.\n",
    "\n",
    "                print('Propuesta recibida.')        # Muestra este mensaje cuando la solicitud de cada banco es ingresada correctamente\n",
    "\n",
    "                continuar = input('¿Desea agregar más bancos? si/no')   # Pregunta al usuario si desea agregar más bancos, en donde si responde no, se rompe el bucle y termina el método .agregar_propuesta_banco()\n",
    "\n",
    "                while continuar != 'si' and continuar != 'no':\n",
    "                    continuar = input('Opción no reconocida. Inténtelo nuevamente ¿Desea continuar? si/no') # Se crea un bucle en el cual el usuario ingresa y no puede salir si no responde apropiada (si o no) sobre agregar más bancos. Esto se incluye para evitar errores que puedan interrumpir la compilación del método\n",
    "\n",
    "            elif self.operacion == 'contractiva':       # La lógica de la operación contractiva es similar con la de expansiva, cambiando en que no se ingresa una punta sino un margen de descuento.\n",
    "                banco = input('Ingrese el nombre del banco que desea participar en la subasta')\n",
    "                solicitud = int(input('El Banco de la República de Colombia llevará a cabo operaciones contractivas de dinero, ¿qué monto desea depositar?'))\n",
    "                punta = int(input(f'¿Cuál es el margen de descuento (puntos básicos) que propone para acceder a ese depósito solicitado? Recuerde que con dicho margen de descuento (puntos básicos) la tasa no debe ser menor a {self.tasa-1}%')) # En este caso no se ingresa una  punta sino un margen de descuento, el cual, como su nombre lo indica, descontará porcentaje del retorno del depósito realizado en el BANREP.\n",
    "\n",
    "                while self.tasa-(punta/100) < self.tasa-1:\n",
    "                    punta = int(input(f'El margen de descuento (puntos básicos) propuesto no debe reducir la tasa por debajo de {self.tasa-1}%, ingrese un nuevo margen de descuento (puntos básicos)')) # Aquí el usuario ingresa a un bucle del que no puede salir si ingresa un margen de descuento que reduzca la tasa de retorno por debajo de la tasa de intervención - 100pb, es decir, de la tasa lombarda.\n",
    "                    # En este caso no es necesario limitar un margen de descuento a que sea positivo, ya que dentro de la racionalidad no tiene sentido proponer una tasa de interés en donde se le cobre al banco por depositar dinero.\n",
    "                print('Propuesta recibida.')\n",
    "\n",
    "                continuar = input('¿Desea agregar más bancos? si/no')   \n",
    "                while continuar != 'si' and continuar != 'no':\n",
    "                    continuar = input('Opción no reconocida. Inténtelo nuevamente ¿Desea continuar? si/no')\n",
    "\n",
    "            else:\n",
    "                print('Alguno de los parametros no están asignados correctamente. Para más información use .info()')\n",
    "                break # En caso de que se quiere usar este método pero algun parametro no haya sido ingresado correctamente, se detendra el bucle y enviará un mensaje advirtiendo sobre este error en los parámetros.\n",
    "            \n",
    "        \n",
    "            banco_solicitud_punta = []\n",
    "            banco_solicitud_punta.append(banco)\n",
    "            banco_solicitud_punta.append(solicitud)\n",
    "            banco_solicitud_punta.append(punta)         # Aquí se genera una lista vacía en donde se ingresaran las respuestas dadas por el usuario respecto al nombre, solicitud y punta o margen de descuento de cada banco ingresado.\n",
    "\n",
    "            self.bancos.append(banco_solicitud_punta)   # Las listas con la solicitud de cada banco se anexaran a la lista 'grande' creada previamente dentor de los atributos de la clase.\n",
    "\n",
    "        return(self.bancos)                             # Con la función return se ordena que el método devuelva la lista 'grande' que recoge las solicitudes de todos los bancos a manera de lista.\n",
    "\n",
    "    def holandesa(self): # Por medio de este método se realizara el calculo y la distribución de los recursos del BANREP, ya sea para inyección o extracción de liquidez, a manera de subasta holandesa\n",
    "            \n",
    "        subasta_orden = sorted(self.bancos, key = lambda x: x[2], reverse = True) # Ordena la lista self.bancos que recoge todas las solicitudes de acuerdo a la punta o margen de descuento ingresado de forma descendente y guarda este orden dentro de la lista subasta_orden\n",
    "        print(subasta_orden) # Muestra la lista en donde las solicitudes están de forma descendente\n",
    "\n",
    "        i=0 # Se genera una constante igual a 0, con la que se recorrerán los elementos de la lista de solicitudes (es decir, cada solicitud).\n",
    "        while self.monto_cupo > 0 and i < len(subasta_orden): # Se genera un bucle el cual correra hasta que se agoten los recursos del BANREP o hasta que se haya pasado revista de todas las solicitudes.\n",
    "            \n",
    "            tasa_observada = subasta_orden[i][2] # Recoge la punta o margen de descuento de cada propuesta y los guarda en una variable llamada 'tasa_observada' con el fin de comparar aquellas solicitudes con tasas iguales. \n",
    "            propuestas_con_misma_tasa = [] # Se crea  una lista vacía en donde se guardaran las solicitudes con misma punta o margen de descuento.\n",
    "\n",
    "            while i < len(subasta_orden) and subasta_orden[i][2] == tasa_observada: # Genera un bucle el cual correrá hasta que se pase revista por todas las solicitudes y mientras haya solicitudes con la misma punta o margen de descuento que se esté analizando.\n",
    "                propuestas_con_misma_tasa.append(subasta_orden[i]) # Busca agregar las solicitudes con misma tasa a la que se está analizando a la lista vacía que se creo anteriormente.\n",
    "                i+=1 # Le suma 1 al contador para que pase revista a las siguientes solicitudes.\n",
    "                \n",
    "            print(propuestas_con_misma_tasa) # Muestra el resultado de la lista que se creó con misma tasa\n",
    "            total_solicitudes_misma_tasa = sum(propuesta[1] for propuesta in propuestas_con_misma_tasa) # Calcula el total de la solicitud ya sea de depósito o préstamo y la guarda en la variable total_solicitudes_con_misma_tasa\n",
    "            \n",
    "            if self.operacion == 'expansiva': # Dependiendo del tipo de operación, se mostrará un mensa distitno, pero la lógica es la misma en ambos casos.\n",
    "                if total_solicitudes_misma_tasa <= self.monto_cupo: # Compara si el total de los recursos del BANREP disponibles es mayor o igual a la suma de las solicitudes de los bancos con misma tasa que se están evaluando. De ser así, les asigna el total de la solicitud a cada uno de ellos.\n",
    "                    for propuesta in propuestas_con_misma_tasa:\n",
    "                        print(f'El banco {propuesta[0]} recibe la totalidad del monto solicitado de {propuesta[1]} con una punta de {propuesta[2]}%.') # Para cada solicitud (cada banco) se muestra un mensaje en donde se muestra que su solicitud fue concedida en su totalidad.\n",
    "                        self.monto_cupo -= propuesta[1] # Resta lo cedido a los banos analizados al monto disponible de los recursos del BANREP.\n",
    "                else:\n",
    "                    solicitud_dividida = self.monto_cupo/len(propuestas_con_misma_tasa) # En caso de que los recursos del BANREP sean menores al total de la suma de la solicitud del grupo de bancos con misma tasa que se estén analizando, divide ese restante entre ellos de igual manera. \n",
    "                    for propuesta in propuestas_con_misma_tasa:\n",
    "                        print(f'El banco {propuesta[0]} recibe {solicitud_dividida} del monto solicitado de {propuesta[1]} con una punta de {propuesta[2]}%.') # A cada solicitud (cada banco) se le muestra cuanto se les fue asignado de su solicitud de acuerdo a los recursos restante y a cuantos bancos más tienen la misma tasa.\n",
    "                        self.monto_cupo -= solicitud_dividida # Se le resta lo asignado a los bancos de los recursos disponibles restantes del BANREP.\n",
    "            \n",
    "            elif self.operacion == 'contractiva':\n",
    "                if total_solicitudes_misma_tasa <= self.monto_cupo:\n",
    "                    for propuesta in propuestas_con_misma_tasa:\n",
    "                        print(f'Al banco {propuesta[0]} se le recibe la totalidad del cupo de depósito solicitado de {propuesta[1]} con una margen de descuento de {propuesta[2]}')\n",
    "                        self.monto_cupo -= propuesta[1]\n",
    "                else:\n",
    "                    solicitud_dividida = self.monto_cupo/len(propuestas_con_misma_tasa)\n",
    "                    for propuesta in propuestas_con_misma_tasa:\n",
    "                        print(f'El banco {propuesta[0]} se le concede una parte del cupo de depósito solicitado de {solicitud_dividida} con un margen de descuento de {propuesta[2]}.')\n",
    "                        self.monto_cupo -= solicitud_dividida\n",
    "            \n",
    "            else:\n",
    "                print('No se reconoce la operación monetaria que desea realizar.') # En caso de que los parametros no hayan sido correctamente ingresados se informa del error.\n",
    "\n",
    "        if self.monto_cupo == 0 and self.operacion == 'expansiva':\n",
    "            print('El monto ha sido completamente asignado.')\n",
    "        elif self.monto_cupo != 0 and self.operacion == 'expansiva':\n",
    "            print(f'Queda un monto de {self.monto_cupo}') \n",
    "        elif self.monto_cupo == 0 and self.operacion == 'contractiva':\n",
    "            print('El cupo de depósito ha sido completado.')\n",
    "        elif self.monto_cupo != 0 and self.operacion == 'contractiva':\n",
    "            print(f'Queda un cupo para depósito disponible de {self.monto_cupo}') \n",
    "        # Dependiendo del tipo de operación y si se agotaron la totalidad de los recursos del BANREP o no, se envía un mensaje dependiendo de la situación.\n",
    "\n",
    "    def inglesa(self):\n",
    "        subasta_orden = sorted(self.bancos, key = lambda x: x[2], reverse = True) # Ordena la lista self.bancos que recoge todas las solicitudes de acuerdo a la punta o margen de descuento ingresado de forma descendente y guarda este orden dentro de la lista subasta_orden\n",
    "        print(subasta_orden) # Muestra las solicitudes ordenadas por punta o por margen de descuento de forma descendente\n",
    "\n",
    "        if self.operacion == 'expansiva': # Se le asignan los recursos solicitados al banco que aparece de primero en la lista ordenada (el de mayor punta)\n",
    "            print(f'El banco {subasta_orden[0][0]} fue el que propuso la mayor punta, que fue de {subasta_orden[0][2]}, por lo que se le concede la totalidad del monto solicitado de {subasta_orden[0][1]}.')    \n",
    "\n",
    "        elif self.operacion == 'contractiva': # Se le asigna el cupo para depósito solicitado al banco que aparece de primero en la lista ordenada (el de mayor margen de descuento)\n",
    "            print(f'El banco {subasta_orden[0][0]} fue el que propuso el mayor margen de descuento, el cual fue de {subasta_orden[0][2]}, por lo que se le concede la totalidad del cupo para depósito solicitado de {subasta_orden[0][1]}.')\n",
    "        \n",
    "        else:\n",
    "            print('No se reconoce la operación monetaria que desea realizar.') # En caso de no ingresarse los parametros adecuadamente se enviará un mensaje sobre eso"
   ]
  },
  {
   "cell_type": "code",
   "execution_count": 29,
   "metadata": {},
   "outputs": [],
   "source": [
    "contractiva=Subasta('contractiva', 2000, 12)"
   ]
  },
  {
   "cell_type": "code",
   "execution_count": 30,
   "metadata": {},
   "outputs": [
    {
     "name": "stdout",
     "output_type": "stream",
     "text": [
      "Propuesta recibida.\n",
      "Propuesta recibida.\n",
      "Propuesta recibida.\n",
      "[['usuifes', 452, 50], ['kfjahkfhuk', 800007, 60], ['akhusdkhjans', 85416, 90]]\n"
     ]
    }
   ],
   "source": [
    "contractiva.agregar_propuesta_banco()\n",
    "print(contractiva.bancos)"
   ]
  },
  {
   "cell_type": "code",
   "execution_count": 26,
   "metadata": {},
   "outputs": [
    {
     "name": "stdout",
     "output_type": "stream",
     "text": [
      "[['safks', 800, 90], ['jfaah', 5000, 50], ['kudhsaukdh', 6000, 20]]\n",
      "[['safks', 800, 90]]\n",
      "Al banco safks se le recibe la totalidad del cupo de depósito solicitado de 800 con una margen de descuento de 90\n",
      "[['jfaah', 5000, 50]]\n",
      "El banco jfaah se le concede una parte del cupo de depósito solicitado de 1200.0 con un margen de descuento de 50.\n",
      "El cupo de depósito ha sido completado.\n"
     ]
    }
   ],
   "source": [
    "contractiva.holandesa()"
   ]
  },
  {
   "cell_type": "code",
   "execution_count": 31,
   "metadata": {},
   "outputs": [
    {
     "name": "stdout",
     "output_type": "stream",
     "text": [
      "[['usuifes', 452, 50], ['kfjahkfhuk', 800007, 60], ['akhusdkhjans', 85416, 90]]\n",
      "El banco usuifes fue el que propuso el mayor margen de descuento, el cual fue de 50, por lo que se le concede la totalidad del cupo para depósito solicitado de 452.\n"
     ]
    }
   ],
   "source": [
    "contractiva.inglesa()"
   ]
  }
 ],
 "metadata": {
  "kernelspec": {
   "display_name": "Python 3",
   "language": "python",
   "name": "python3"
  },
  "language_info": {
   "codemirror_mode": {
    "name": "ipython",
    "version": 3
   },
   "file_extension": ".py",
   "mimetype": "text/x-python",
   "name": "python",
   "nbconvert_exporter": "python",
   "pygments_lexer": "ipython3",
   "version": "3.11.9"
  }
 },
 "nbformat": 4,
 "nbformat_minor": 2
}
