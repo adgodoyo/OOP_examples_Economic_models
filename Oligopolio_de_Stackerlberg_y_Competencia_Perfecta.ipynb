{
  "nbformat": 4,
  "nbformat_minor": 0,
  "metadata": {
    "colab": {
      "provenance": [],
      "toc_visible": true
    },
    "kernelspec": {
      "name": "python3",
      "display_name": "Python 3"
    },
    "language_info": {
      "name": "python"
    }
  },
  "cells": [
    {
      "cell_type": "markdown",
      "source": [
        "## Oligopolio de Stackerlberg\n",
        "\n",
        "Este modelo se caracteriza por:\n",
        "\n",
        "1.   Se fijan cantidades, no precios.\n",
        "2.   Existen 2 empresas, una de ellas es la empresa líder que toma primero la decisión de cuantas cantidades va a producir.\n",
        "3.   La segunda empresa es la empresa seguidora, que en base a la decisión de la empresa líder decide su cantidad de producción, que, va ser menor a la producción de la empresa lider.\n",
        "4.   Las decisiones son secuenciales.\n",
        "\n",
        "\n",
        "\n",
        "\n"
      ],
      "metadata": {
        "id": "-IIdz-N6D7zS"
      }
    },
    {
      "cell_type": "markdown",
      "source": [
        "## Competencia perfecta\n",
        "Este modelo se caracteriza por:\n",
        "\n",
        "\n",
        "1.   Ninguna empresa puede influir en el precio ni las cantidades en el mercado.\n",
        "2.   Existe información perfecta de los precios y cantidades en el mercado\n",
        "3.   El precio de mercado es el Cmg de las empresas.\n",
        "4.   En el punto de equilibrio no existe exceso de oferte ni demanda.\n",
        "\n",
        "\n",
        "\n"
      ],
      "metadata": {
        "id": "Pklw2SlEFWWW"
      }
    },
    {
      "cell_type": "code",
      "source": [
        "class ModeloCompetencia:\n",
        "    def __init__(self, costo_marginal, ecuacion_demanda, parametro):\n",
        "        \"\"\"\n",
        "        Inicia los parámetros del modelo:\n",
        "        - costo_marginal: El costo marginal, asumido igual para ambas empresas.\n",
        "        - ecuacion_demanda: El término constante 'a' en la ecuación de demanda P = a - bQ.\n",
        "        - parametro: Es la pendiente 'b' en la ecuación de demanda.\n",
        "        \"\"\"\n",
        "        self.costo_marginal = costo_marginal\n",
        "        self.demanda = ecuacion_demanda  #a\n",
        "        self.cantidad_parametro = parametro  # b\n",
        "\n",
        "    def produccion_lider_stackelberg(self):\n",
        "        \"\"\"\n",
        "        Calcula la cantidad producida por la empresa líder en el modelo de Stackelberg.\n",
        "        \"\"\"\n",
        "        return (self.demanda - self.costo_marginal) / (2 * self.cantidad_parametro)\n",
        "\n",
        "    def reaccion_seguidora_stackelberg(self, cantidad_lider):\n",
        "        \"\"\"\n",
        "        Calcula la cantidad producida por la empresa seguidora en el modelo de Stackelberg,\n",
        "        basada en la cantidad producida por la empresa líder.\n",
        "        \"\"\"\n",
        "        return (self.demanda - self.costo_marginal) / (2 * self.cantidad_parametro) - cantidad_lider / 2\n",
        "\n",
        "    def produccion_competencia_perfecta(self):\n",
        "        \"\"\"\n",
        "        Calcula la cantidad producida por cada empresa en un mercado de competencia perfecta.\n",
        "        En este caso, ambas empresas producen la misma cantidad porque son precio-aceptantes.\n",
        "        \"\"\"\n",
        "        return (self.demanda - self.costo_marginal) / (2 * self.cantidad_parametro)\n",
        "\n",
        "    def calcular_precio(self, cantidad_total):\n",
        "        \"\"\"\n",
        "        Calcula el precio del mercado basado en la cantidad total producida.\n",
        "        \"\"\"\n",
        "        return self.demanda - self.cantidad_parametro * cantidad_total\n",
        "\n",
        "    def calcular_beneficios(self, cantidad, precio):\n",
        "        \"\"\"\n",
        "        Calcula los beneficios para una empresa dada la cantidad producida y el precio de mercado.\n",
        "        \"\"\"\n",
        "        return (precio - self.costo_marginal) * cantidad\n",
        "\n",
        "    def modelar(self, tipo_modelo=\"stackelberg\"):\n",
        "        \"\"\"\n",
        "        Ejecuta la simulación del modelo seleccionado una vez.\n",
        "        Puede ser \"stackelberg\" o \"competencia perfecta\".\n",
        "        \"\"\"\n",
        "        print(f\"\\nSimulación del Modelo: {tipo_modelo.capitalize()}\")\n",
        "\n",
        "        if tipo_modelo.lower() == \"stackelberg\":\n",
        "            cantidad_lider = self.produccion_lider_stackelberg()\n",
        "            cantidad_seguidor = self.reaccion_seguidora_stackelberg(cantidad_lider)\n",
        "        elif tipo_modelo.lower() == \"competencia perfecta\":\n",
        "            cantidad_lider = cantidad_seguidor = self.produccion_competencia_perfecta()\n",
        "        else:\n",
        "            print(\"Tipo de modelo no reconocido. Por favor, elige entre 'Stackelberg' o 'Competencia perfecta'.\")\n",
        "            return\n",
        "\n",
        "        cantidad_total = cantidad_lider + cantidad_seguidor\n",
        "        precio = self.calcular_precio(cantidad_total)\n",
        "\n",
        "        beneficio_lider = self.calcular_beneficios(cantidad_lider, precio)\n",
        "        beneficio_seguidor = self.calcular_beneficios(cantidad_seguidor, precio)\n",
        "\n",
        "        print(f\"  Cantidad líder: {cantidad_lider:.2f}\")\n",
        "        print(f\"  Cantidad seguidora: {cantidad_seguidor:.2f}\")\n",
        "        print(f\"  Precio: {precio:.2f}\")\n",
        "        print(f\"  Beneficio líder: {beneficio_lider:.2f}\")\n",
        "        print(f\"  Beneficio seguidora: {beneficio_seguidor:.2f}\")\n",
        "\n",
        "# Ejemplo de uso #N\n",
        "costo_marginal = int(input(\"¿Cuál es el costo marginal de las empresas? \"))\n",
        "ecuacion_demanda = int(input(\"¿Cuál es el corte en la ecuación de la función de precios (a)? \"))\n",
        "parametro = int(input(\"¿Cuál es la pendiente de la ecuación de la función de precios (b)? \"))\n",
        "\n",
        "modelo = ModeloCompetencia(costo_marginal, ecuacion_demanda, parametro)\n",
        "\n",
        "# Simulación para el modelo seleccionado #V\n",
        "tipo_modelo = input(\"Escoge el modelo (Stackelberg o Competencia perfecta): \")\n",
        "modelo.modelar(tipo_modelo=tipo_modelo)"
      ],
      "metadata": {
        "colab": {
          "base_uri": "https://localhost:8080/"
        },
        "id": "Dx6b8IiP5qpn",
        "outputId": "c5e0bda9-16bd-43aa-cd62-fd6a7a1e502e"
      },
      "execution_count": null,
      "outputs": [
        {
          "output_type": "stream",
          "name": "stdout",
          "text": [
            "¿Cuál es el costo marginal de las empresas? 30\n",
            "¿Cuál es el corte en la ecuación de la función de precios (a)? 900\n",
            "¿Cuál es la pendiente de la ecuación de la función de precios (b)? 2\n",
            "Escoge el modelo (Stackelberg o Competencia perfecta): Competencia perfecta\n",
            "\n",
            "Simulación del Modelo: Competencia perfecta\n",
            "  Cantidad líder: 217.50\n",
            "  Cantidad seguidora: 217.50\n",
            "  Precio: 30.00\n",
            "  Beneficio líder: 0.00\n",
            "  Beneficio seguidora: 0.00\n"
          ]
        }
      ]
    },
    {
      "cell_type": "markdown",
      "source": [
        "## Autores:\n",
        "\n",
        "**Valentina Agudelo**\n",
        "\n",
        "**Natalia Acosta**\n",
        "\n",
        "## Tutor\n",
        "**Daniel Godoy**"
      ],
      "metadata": {
        "id": "hpuYufvHhkzX"
      }
    }
  ]
}